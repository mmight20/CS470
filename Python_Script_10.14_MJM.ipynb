{
 "cells": [
  {
   "cell_type": "code",
   "execution_count": 1,
   "metadata": {},
   "outputs": [],
   "source": [
    "#Packages being downloaded\n",
    "import csv\n",
    "import pandas as pd\n",
    "import re\n",
    "import xml.etree.ElementTree as ET"
   ]
  },
  {
   "cell_type": "code",
   "execution_count": 2,
   "metadata": {},
   "outputs": [],
   "source": [
    "def readCSV(csvName):\n",
    "    df = pd.read_csv(csvName)\n",
    "    print(\"reading csv done\")\n",
    "    return df"
   ]
  },
  {
   "cell_type": "code",
   "execution_count": 6,
   "metadata": {},
   "outputs": [
    {
     "name": "stdout",
     "output_type": "stream",
     "text": [
      "reading csv done\n"
     ]
    },
    {
     "data": {
      "text/plain": [
       "?Sequence           int64\n",
       "Latitude          float64\n",
       "Longitude         float64\n",
       "External Ip        object\n",
       "Id Client           int64\n",
       "Idtest Results     object\n",
       "Location Tag       object\n",
       "Mph                 int64\n",
       "Network Type       object\n",
       "Time               object\n",
       "Target Url         object\n",
       "Test Time          object\n",
       "Test Type          object\n",
       "Time1              object\n",
       "Course             object\n",
       "Course_Numeric      int64\n",
       "Mph1              float64\n",
       "Feet                int64\n",
       "Alt Status         object\n",
       "dtype: object"
      ]
     },
     "execution_count": 6,
     "metadata": {},
     "output_type": "execute_result"
    }
   ],
   "source": [
    "df = readCSV('DAL 900 Data File.csv')\n",
    "df.columns\n",
    "df.dtypes"
   ]
  },
  {
   "cell_type": "code",
   "execution_count": 9,
   "metadata": {},
   "outputs": [],
   "source": [
    "def typeDefiner(df):\n",
    "    colList = df.columns\n",
    "    colList\n",
    "    x = 0\n",
    "    colNames = []\n",
    "    for name in colList:\n",
    "        if df.dtypes[x] == 'object':# or df.dtypes[x] == 'int64':\n",
    "            pass\n",
    "        else:\n",
    "            colNames.append(colList[x])\n",
    "        x = x + 1\n",
    "    print(\"objects removed\")\n",
    "    print(colNames)\n",
    "    return colNames"
   ]
  },
  {
   "cell_type": "code",
   "execution_count": 10,
   "metadata": {},
   "outputs": [],
   "source": [
    "def XMLParser(colNames, sdtFile):\n",
    "    print(colNames)\n",
    "    tree = ET.parse(sdtFile)\n",
    "    root = tree.getroot()\n",
    "    count=0;\n",
    "    for elem in root.iter('InputField'):\n",
    "        count+=1;\n",
    "        elem.set('field', str(colNames[count]))\n",
    "    tree.write('New DAL 900.sdt')\n",
    "    print(\"XML updated\")"
   ]
  },
  {
   "cell_type": "code",
   "execution_count": 11,
   "metadata": {},
   "outputs": [],
   "source": [
    "def runAll(csvName, sdtFile):\n",
    "    df = readCSV(csvName)\n",
    "    colNames = typeDefiner(df)\n",
    "    XMLParser(colNames, sdtFile)"
   ]
  },
  {
   "cell_type": "code",
   "execution_count": 12,
   "metadata": {},
   "outputs": [
    {
     "name": "stdout",
     "output_type": "stream",
     "text": [
      "reading csv done\n",
      "objects removed\n",
      "['?Sequence', 'Latitude', 'Longitude', 'Id Client', 'Mph', 'Course_Numeric', 'Mph1', 'Feet']\n",
      "['?Sequence', 'Latitude', 'Longitude', 'Id Client', 'Mph', 'Course_Numeric', 'Mph1', 'Feet']\n",
      "XML updated\n"
     ]
    }
   ],
   "source": [
    "runAll('DAL 900 Data File.csv', 'DAL 900.sdt')"
   ]
  },
  {
   "cell_type": "code",
   "execution_count": null,
   "metadata": {},
   "outputs": [],
   "source": []
  }
 ],
 "metadata": {
  "kernelspec": {
   "display_name": "Python 3",
   "language": "python",
   "name": "python3"
  },
  "language_info": {
   "codemirror_mode": {
    "name": "ipython",
    "version": 3
   },
   "file_extension": ".py",
   "mimetype": "text/x-python",
   "name": "python",
   "nbconvert_exporter": "python",
   "pygments_lexer": "ipython3",
   "version": "3.7.3"
  }
 },
 "nbformat": 4,
 "nbformat_minor": 2
}
