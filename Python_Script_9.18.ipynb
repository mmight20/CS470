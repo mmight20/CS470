{
 "cells": [
  {
   "cell_type": "code",
   "execution_count": 1,
   "metadata": {},
   "outputs": [],
   "source": [
    "import csv"
   ]
  },
  {
   "cell_type": "code",
   "execution_count": 6,
   "metadata": {},
   "outputs": [],
   "source": [
    "def readCSV(csvName):\n",
    "    with open('Empty CSV.csv') as csvfile:\n",
    "        readCSV = csv.reader(csvfile, delimiter=',')\n",
    "        for row in readCSV:\n",
    "            print(row)\n",
    "            print(row[0])\n",
    "            #print(row[0],row[1], row[2], row[3])"
   ]
  },
  {
   "cell_type": "code",
   "execution_count": 7,
   "metadata": {},
   "outputs": [
    {
     "name": "stdout",
     "output_type": "stream",
     "text": [
      "['Alexis', 'Morgan', 'Ashley', 'Amanda']\n",
      "Alexis\n",
      "['3.14159', '3.14159', '3.14159', '3.14159']\n",
      "3.14159\n",
      "['3.14159', '3.14159', '3.14159', '3.14159']\n",
      "3.14159\n",
      "['3.14159', '3.14159', '3.14159', '3.14159']\n",
      "3.14159\n",
      "['3.14159', '3.14159', '3.14159', '3.14159']\n",
      "3.14159\n"
     ]
    }
   ],
   "source": [
    "readCSV('Empty CSV.csv')"
   ]
  },
  {
   "cell_type": "code",
   "execution_count": null,
   "metadata": {},
   "outputs": [],
   "source": []
  }
 ],
 "metadata": {
  "kernelspec": {
   "display_name": "Python 3",
   "language": "python",
   "name": "python3"
  },
  "language_info": {
   "codemirror_mode": {
    "name": "ipython",
    "version": 3
   },
   "file_extension": ".py",
   "mimetype": "text/x-python",
   "name": "python",
   "nbconvert_exporter": "python",
   "pygments_lexer": "ipython3",
   "version": "3.7.3"
  }
 },
 "nbformat": 4,
 "nbformat_minor": 2
}
