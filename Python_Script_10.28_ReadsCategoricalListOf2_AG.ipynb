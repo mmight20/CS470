{
 "cells": [
  {
   "cell_type": "code",
   "execution_count": 45,
   "metadata": {},
   "outputs": [],
   "source": [
    "#Packages being downloaded\n",
    "import csv\n",
    "import pandas as pd\n",
    "import re\n",
    "import xml.etree.ElementTree as ET\n",
    "\n",
    "from tkinter import filedialog\n",
    "from tkinter import *"
   ]
  },
  {
   "cell_type": "code",
   "execution_count": 2,
   "metadata": {},
   "outputs": [],
   "source": [
    "#%%python\n",
    "def getFile():\n",
    "    root = Tk()\n",
    "    root.filename =  filedialog.askopenfilename(initialdir = \"/\",title = \"Select file\",filetypes = ((\"text files\",\"*.csv\"),(\"all files\",\"*.*\")))\n",
    "    root.destroy()\n",
    "    return(root.filename)"
   ]
  },
  {
   "cell_type": "code",
   "execution_count": 3,
   "metadata": {},
   "outputs": [],
   "source": [
    "def readCSV(csvName):\n",
    "    df = pd.read_csv(csvName)\n",
    "    print(\"reading csv done\")\n",
    "    return df"
   ]
  },
  {
   "cell_type": "code",
   "execution_count": 16,
   "metadata": {},
   "outputs": [],
   "source": [
    "def getCat(df,colorName):\n",
    "    x=0\n",
    "    for name in df.columns:\n",
    "        if df.dtypes[x] == 'object':\n",
    "             if len(df[name].astype('category').cat.categories.tolist()) >1 and len(df[name].astype('category').cat.categories.tolist()) <5 and colorName==\"\": \n",
    "                colorName=df.columns[x]\n",
    "        x= x+1\n",
    "    return colorName"
   ]
  },
  {
   "cell_type": "code",
   "execution_count": 25,
   "metadata": {},
   "outputs": [],
   "source": [
    "def getCatCol(df,colorName):\n",
    "    return df[colorName].astype('category').cat.categories.tolist()"
   ]
  },
  {
   "cell_type": "code",
   "execution_count": 28,
   "metadata": {},
   "outputs": [],
   "source": [
    "def typeDefiner(df):\n",
    "    colList = df.columns\n",
    "    colList\n",
    "    x = 0\n",
    "    colNames = []\n",
    "    for name in colList:\n",
    "        if df.dtypes[x] == 'object':# or df.dtypes[x] == 'int64':\n",
    "            pass\n",
    "        else:\n",
    "            colNames.append(colList[x])\n",
    "                \n",
    "        x = x + 1\n",
    "    print(\"objects removed\")\n",
    "    print(colNames)\n",
    "    return colNames"
   ]
  },
  {
   "cell_type": "code",
   "execution_count": null,
   "metadata": {},
   "outputs": [],
   "source": [
    "def toNumeric(sdtFile):\n",
    "\n",
    "    import xml.etree.ElementTree as ET\n",
    "    #CLEARS COLOR OUT NOW WE CAN INSERT ANYTHING\n",
    "    file = ET.parse(sdtFile)\n",
    "    root = file.getroot()\n",
    "    for elem in root.findall('.//Color/RGB/Function[@type=\"Text Field To Value\"]/KeyValuePairs'):\n",
    "        elem.clear()\n",
    "\n",
    "    for parent in root.findall('.//KeyValuePairs/..'):\n",
    "        for element in parent.findall('KeyValuePairs'):\n",
    "            parent.remove(element)\n",
    "   #Try to write here\n",
    "    for elem in root.findall('.//Color/RGB'):\n",
    "        check_req_elems = elem.find('.//Function[@type=\"Text Field To Value\"]')\n",
    "        check_req_elems.type = \"Linear Interpolation\"\n",
    "        check_req_elems.set(\"type\",\"Linear Interpolation\")\n",
    "        attrib = {'type': 'BoundField'}\n",
    "        minmax = ET.SubElement(check_req_elems, 'MinMax', attrib)\n",
    "        minmax.text= \"\\n\\t\\t\\t\\t\\t\\t\\t\"\n",
    "        min = ET.SubElement(minmax, 'Min')\n",
    "        min.text = '0'\n",
    "        min.tail=\"\\n\\t\\t\\t\\t\\t\\t\"\n",
    "        minmax.tail=\"\\n\\t\\t\\t\\t\\t\"\n",
    "    file.write(sdtFile,encoding=\"utf-8\", xml_declaration=True)\n",
    "    print(\"color fixed\")"
   ]
  },
  {
   "cell_type": "code",
   "execution_count": 59,
   "metadata": {},
   "outputs": [],
   "source": [
    "def XMLParser(colNames, sdtFile,colorName):\n",
    "    print(colNames)\n",
    "\n",
    "    tree = ET.parse(sdtFile)\n",
    "    root = tree.getroot()\n",
    "    count=0;\n",
    "    print(len(colNames))\n",
    "    for elem in root.iter('InputField'):\n",
    "        print(count)\n",
    "        #count+=1;\n",
    "        #check_req_elem = elem.find('.//InputField')\n",
    "        #if check_req_elem.get('name')!=\"color\":\n",
    "        elem.set('field', colNames[count])\n",
    "        #else:\n",
    "         #   elem.set('field', colorName)\n",
    "        count+=1;\n",
    "    #tree.write('New DAL 900.sdt')\n",
    "    tree.write('emptySDT.sdt')\n",
    "    print(\"XML updated\")"
   ]
  },
  {
   "cell_type": "code",
   "execution_count": 69,
   "metadata": {},
   "outputs": [],
   "source": [
    "def runAll(sdtFile):\n",
    "    colorCol= None\n",
    "    colorName=\"\"\n",
    "    csv = getFile()\n",
    "    df = readCSV(csv)\n",
    "    colorName=getCat(df,colorName)\n",
    "    colorCol=getCatCol(df,colorName)\n",
    "    colNames = typeDefiner(df)\n",
    "    colNames.append(colorName)\n",
    "    XMLParser(colNames, sdtFile,colorName)\n",
    "    setupColor(colorCol, sdtFile)\n",
    "   # csv = getFile()\n",
    "#readCSV(csv)"
   ]
  },
  {
   "cell_type": "code",
   "execution_count": 70,
   "metadata": {},
   "outputs": [
    {
     "name": "stdout",
     "output_type": "stream",
     "text": [
      "reading csv done\n",
      "objects removed\n",
      "['Height', 'Age', 'GPA']\n",
      "['Height', 'Age', 'GPA', 'Gender']\n",
      "4\n",
      "0\n",
      "1\n",
      "2\n",
      "3\n",
      "XML updated\n",
      "F\n",
      "M\n"
     ]
    }
   ],
   "source": [
    "#%%python\n",
    "runAll('emptySDT.sdt')"
   ]
  },
  {
   "cell_type": "markdown",
   "metadata": {},
   "source": [
    "### Extra functions"
   ]
  },
  {
   "cell_type": "code",
   "execution_count": 4,
   "metadata": {},
   "outputs": [],
   "source": [
    "def elevationFinder(df):\n",
    "    if df.columns.contains(\"elevation\") or df.columns.contains(\"Elevation\") or df.columns.contains(\"height\"):\n",
    "        longitude = df[\"Longitude\"]\n",
    "    else:\n",
    "        longitude = \"none found\"\n",
    "    return longitude"
   ]
  },
  {
   "cell_type": "code",
   "execution_count": 3,
   "metadata": {},
   "outputs": [],
   "source": [
    "def latFinder2(df):\n",
    "    x = 0\n",
    "    for columns in df.columns:\n",
    "        searchObj = re.match( r'LAT', df.columns[x], re.I)\n",
    "        if searchObj:\n",
    "            #print(\"found it\")\n",
    "            lat = df.columns[x]\n",
    "            return lat\n",
    "        else:\n",
    "            x = x + 1\n",
    "            pass"
   ]
  },
  {
   "cell_type": "code",
   "execution_count": 2,
   "metadata": {},
   "outputs": [],
   "source": [
    "def longFinder2(df):\n",
    "    x = 0\n",
    "    for columns in df.columns:\n",
    "        searchObj = re.match( r'LONG', df.columns[x], re.I)\n",
    "        if searchObj:\n",
    "            #print(\"found it\")\n",
    "            long = df.columns[x]\n",
    "            return long\n",
    "        else:\n",
    "            x = x + 1\n",
    "            pass"
   ]
  },
  {
   "cell_type": "code",
   "execution_count": 67,
   "metadata": {},
   "outputs": [],
   "source": [
    "def setupColor(colorCol,sdtFile):\n",
    "    file = ET.parse(sdtFile)\n",
    "    root = file.getroot()\n",
    "    x=0\n",
    "    for elem in root.findall('.//Color/RGB/Function[@type=\"Text Field To Value\"]/KeyValuePairs'):\n",
    "        for element in elem.findall('KeyValuePair/Key'):\n",
    "            element.text=colorCol[x]\n",
    "            print(colorCol[x])\n",
    "            x= x+1\n",
    "            \n",
    "    file.write(sdtFile,encoding=\"utf-8\", xml_declaration=True)\n"
   ]
  },
  {
   "cell_type": "code",
   "execution_count": 70,
   "metadata": {},
   "outputs": [
    {
     "ename": "NameError",
     "evalue": "name 'colorCol' is not defined",
     "output_type": "error",
     "traceback": [
      "\u001b[1;31m---------------------------------------------------------------------------\u001b[0m",
      "\u001b[1;31mNameError\u001b[0m                                 Traceback (most recent call last)",
      "\u001b[1;32m<ipython-input-70-e7c3994c746c>\u001b[0m in \u001b[0;36m<module>\u001b[1;34m\u001b[0m\n\u001b[1;32m----> 1\u001b[1;33m \u001b[0mprint\u001b[0m\u001b[1;33m(\u001b[0m\u001b[0mcolorCol\u001b[0m\u001b[1;33m[\u001b[0m\u001b[1;36m0\u001b[0m\u001b[1;33m]\u001b[0m\u001b[1;33m)\u001b[0m\u001b[1;33m\u001b[0m\u001b[1;33m\u001b[0m\u001b[0m\n\u001b[0m",
      "\u001b[1;31mNameError\u001b[0m: name 'colorCol' is not defined"
     ]
    }
   ],
   "source": [
    "\n"
   ]
  }
 ],
 "metadata": {
  "kernelspec": {
   "display_name": "Python 3",
   "language": "python",
   "name": "python3"
  },
  "language_info": {
   "codemirror_mode": {
    "name": "ipython",
    "version": 3
   },
   "file_extension": ".py",
   "mimetype": "text/x-python",
   "name": "python",
   "nbconvert_exporter": "python",
   "pygments_lexer": "ipython3",
   "version": "3.7.3"
  }
 },
 "nbformat": 4,
 "nbformat_minor": 2
}
