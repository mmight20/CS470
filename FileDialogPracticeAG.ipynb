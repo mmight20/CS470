{
 "cells": [
  {
   "cell_type": "code",
   "execution_count": 7,
   "metadata": {},
   "outputs": [],
   "source": [
    "#%%python\n",
    "def getFile():\n",
    "    root = Tk()\n",
    "    root.filename =  filedialog.askopenfilename(initialdir = \"/\",title = \"Select file\",filetypes = ((\"text files\",\"*.csv\"),(\"all files\",\"*.*\")))\n",
    "    return(root.filename)"
   ]
  },
  {
   "cell_type": "code",
   "execution_count": 3,
   "metadata": {},
   "outputs": [
    {
     "name": "stdout",
     "output_type": "stream",
     "text": [
      "     ?Sequence  Latitude  Longitude  ...   Mph1   Feet         Alt Status\r\n",
      "0            3   33.5618   -84.9653  ...  480.0  18850     1,925 Climbing\r\n",
      "1            2   33.5618   -84.9653  ...  480.0  18850     1,925 Climbing\r\n",
      "2            1   33.5618   -84.9653  ...  480.0  18850     1,925 Climbing\r\n",
      "3            7   33.5280   -85.0238  ...  486.0  19825     1,850 Climbing\r\n",
      "4            6   33.5280   -85.0238  ...  486.0  19825     1,850 Climbing\r\n",
      "5            5   33.5280   -85.0238  ...  486.0  19825     1,850 Climbing\r\n",
      "6            4   33.5280   -85.0238  ...  486.0  19825     1,850 Climbing\r\n",
      "7           11   33.4933   -85.0837  ...  493.0  20700     1,625 Climbing\r\n",
      "8           10   33.4933   -85.0837  ...  493.0  20700     1,625 Climbing\r\n",
      "9            9   33.4933   -85.0837  ...  493.0  20700     1,625 Climbing\r\n",
      "10           8   33.4933   -85.0837  ...  493.0  20700     1,625 Climbing\r\n",
      "11          14   33.4606   -85.1400  ...  502.0  21450     1,529 Climbing\r\n",
      "12          13   33.4606   -85.1400  ...  502.0  21450     1,529 Climbing\r\n",
      "13          12   33.4606   -85.1400  ...  502.0  21450     1,529 Climbing\r\n",
      "14          17   33.4358   -85.1841  ...  505.0  22025     1,538 Climbing\r\n",
      "15          16   33.4358   -85.1841  ...  505.0  22025     1,538 Climbing\r\n",
      "16          15   33.4358   -85.1841  ...  505.0  22025     1,538 Climbing\r\n",
      "17          19   33.4185   -85.2244  ...  509.0  22475     1,530 Climbing\r\n",
      "18          18   33.4185   -85.2244  ...  509.0  22475     1,530 Climbing\r\n",
      "19          23   33.3972   -85.2980  ...  514.0  23300     1,500 Climbing\r\n",
      "20          22   33.3972   -85.2980  ...  514.0  23300     1,500 Climbing\r\n",
      "21          21   33.3972   -85.2980  ...  514.0  23300     1,500 Climbing\r\n",
      "22          20   33.3972   -85.2980  ...  514.0  23300     1,500 Climbing\r\n",
      "23          25   33.3870   -85.3392  ...  518.0  23725     1,449 Climbing\r\n",
      "24          24   33.3870   -85.3392  ...  518.0  23725     1,449 Climbing\r\n",
      "25          31   33.3630   -85.4390  ...  522.0  24725     1,403 Climbing\r\n",
      "26          30   33.3630   -85.4390  ...  522.0  24725     1,403 Climbing\r\n",
      "27          29   33.3630   -85.4390  ...  522.0  24725     1,403 Climbing\r\n",
      "28          28   33.3630   -85.4390  ...  522.0  24725     1,403 Climbing\r\n",
      "29          27   33.3630   -85.4390  ...  522.0  24725     1,403 Climbing\r\n",
      "..         ...       ...        ...  ...    ...    ...                ...\r\n",
      "853        852    9.9160   -84.4161  ...  220.0   6425  -1,402 Descending\r\n",
      "854        859    9.9262   -84.3894  ...  224.0   5650  -1,107 Descending\r\n",
      "855        858    9.9262   -84.3894  ...  224.0   5650  -1,107 Descending\r\n",
      "856        857    9.9262   -84.3894  ...  224.0   5650  -1,107 Descending\r\n",
      "857        856    9.9262   -84.3894  ...  224.0   5650  -1,107 Descending\r\n",
      "858        855    9.9262   -84.3894  ...  224.0   5650  -1,107 Descending\r\n",
      "859        861    9.9352   -84.3660  ...  200.0   5300    -566 Descending\r\n",
      "860        860    9.9352   -84.3660  ...  200.0   5300    -566 Descending\r\n",
      "861        865    9.9437   -84.3432  ...  175.0   5075    -375 Descending\r\n",
      "862        864    9.9437   -84.3432  ...  175.0   5075    -375 Descending\r\n",
      "863        863    9.9437   -84.3432  ...  175.0   5075    -375 Descending\r\n",
      "864        862    9.9437   -84.3432  ...  175.0   5075    -375 Descending\r\n",
      "865        868    9.9477   -84.3324  ...  170.0   5000    -319 Descending\r\n",
      "866        867    9.9477   -84.3324  ...  170.0   5000    -319 Descending\r\n",
      "867        866    9.9477   -84.3324  ...  170.0   5000    -319 Descending\r\n",
      "868        871    9.9544   -84.3142  ...  163.0   4825    -575 Descending\r\n",
      "869        870    9.9544   -84.3142  ...  163.0   4825    -575 Descending\r\n",
      "870        869    9.9544   -84.3142  ...  163.0   4825    -575 Descending\r\n",
      "871        874    9.9618   -84.2947  ...  162.0   4425    -779 Descending\r\n",
      "872        873    9.9618   -84.2947  ...  162.0   4425    -779 Descending\r\n",
      "873        872    9.9618   -84.2947  ...  162.0   4425    -779 Descending\r\n",
      "874        877    9.9665   -84.2816  ...  154.0   4150    -750 Descending\r\n",
      "875        876    9.9665   -84.2816  ...  154.0   4150    -750 Descending\r\n",
      "876        875    9.9665   -84.2816  ...  154.0   4150    -750 Descending\r\n",
      "877        880    9.9700   -84.2727  ...  146.0   3950    -727 Descending\r\n",
      "878        879    9.9700   -84.2727  ...  146.0   3950    -727 Descending\r\n",
      "879        878    9.9700   -84.2727  ...  146.0   3950    -727 Descending\r\n",
      "880        881    9.9735   -84.2630  ...  148.0   3750    -618 Descending\r\n",
      "881        883    9.9774   -84.2531  ...  146.0   3600    -529 Descending\r\n",
      "882        882    9.9774   -84.2531  ...  146.0   3600    -529 Descending\r\n",
      "\r\n",
      "[883 rows x 19 columns]\r\n"
     ]
    }
   ],
   "source": [
    "%%python\n",
    "from tkinter import filedialog\n",
    "from tkinter import *\n",
    "import csv\n",
    "import pandas as pd\n",
    "\n",
    "def getFile():\n",
    "    root = Tk()\n",
    "    root.filename =  filedialog.askopenfilename(initialdir = \"/\",title = \"Select file\",filetypes = ((\"text files\",\"*.csv\"),(\"all files\",\"*.*\")))\n",
    "    return(root.filename)\n",
    "\n",
    "def readCSV(csvName):\n",
    "    df = pd.read_csv(csvName)\n",
    "    print(df)\n",
    "    return df\n",
    "\n",
    "\n",
    "csv = getFile()\n",
    "readCSV(csv)"
   ]
  },
  {
   "cell_type": "code",
   "execution_count": 1,
   "metadata": {},
   "outputs": [],
   "source": [
    "import csv\n",
    "import pandas as pd\n",
    "import re\n",
    "import xml.etree.ElementTree as ET\n"
   ]
  },
  {
   "cell_type": "code",
   "execution_count": 2,
   "metadata": {},
   "outputs": [],
   "source": [
    "def readCSV(csvName):\n",
    "    df = pd.read_csv(csvName)\n",
    "    print(df)\n",
    "    return df"
   ]
  },
  {
   "cell_type": "code",
   "execution_count": 4,
   "metadata": {},
   "outputs": [
    {
     "ename": "NameError",
     "evalue": "name 'Tk' is not defined",
     "output_type": "error",
     "traceback": [
      "\u001b[1;31m---------------------------------------------------------------------------\u001b[0m",
      "\u001b[1;31mNameError\u001b[0m                                 Traceback (most recent call last)",
      "\u001b[1;32m<ipython-input-4-364ef0e23167>\u001b[0m in \u001b[0;36m<module>\u001b[1;34m\u001b[0m\n\u001b[1;32m----> 1\u001b[1;33m \u001b[0mroot\u001b[0m \u001b[1;33m=\u001b[0m \u001b[0mTk\u001b[0m\u001b[1;33m(\u001b[0m\u001b[1;33m)\u001b[0m\u001b[1;33m\u001b[0m\u001b[1;33m\u001b[0m\u001b[0m\n\u001b[0m\u001b[0;32m      2\u001b[0m \u001b[0mroot\u001b[0m\u001b[1;33m.\u001b[0m\u001b[0mfilename\u001b[0m \u001b[1;33m=\u001b[0m  \u001b[0mfiledialog\u001b[0m\u001b[1;33m.\u001b[0m\u001b[0maskopenfilename\u001b[0m\u001b[1;33m(\u001b[0m\u001b[0minitialdir\u001b[0m \u001b[1;33m=\u001b[0m \u001b[1;34m\"/\"\u001b[0m\u001b[1;33m,\u001b[0m\u001b[0mtitle\u001b[0m \u001b[1;33m=\u001b[0m \u001b[1;34m\"Select file\"\u001b[0m\u001b[1;33m,\u001b[0m\u001b[0mfiletypes\u001b[0m \u001b[1;33m=\u001b[0m \u001b[1;33m(\u001b[0m\u001b[1;33m(\u001b[0m\u001b[1;34m\"text files\"\u001b[0m\u001b[1;33m,\u001b[0m\u001b[1;34m\"*.csv\"\u001b[0m\u001b[1;33m)\u001b[0m\u001b[1;33m,\u001b[0m\u001b[1;33m(\u001b[0m\u001b[1;34m\"all files\"\u001b[0m\u001b[1;33m,\u001b[0m\u001b[1;34m\"*.*\"\u001b[0m\u001b[1;33m)\u001b[0m\u001b[1;33m)\u001b[0m\u001b[1;33m)\u001b[0m\u001b[1;33m\u001b[0m\u001b[1;33m\u001b[0m\u001b[0m\n\u001b[0;32m      3\u001b[0m \u001b[0mprint\u001b[0m \u001b[1;33m(\u001b[0m\u001b[0mroot\u001b[0m\u001b[1;33m.\u001b[0m\u001b[0mfilename\u001b[0m\u001b[1;33m)\u001b[0m\u001b[1;33m\u001b[0m\u001b[1;33m\u001b[0m\u001b[0m\n\u001b[0;32m      4\u001b[0m \u001b[1;33m\u001b[0m\u001b[0m\n\u001b[0;32m      5\u001b[0m \u001b[0mreadCSV\u001b[0m\u001b[1;33m(\u001b[0m\u001b[0mroot\u001b[0m\u001b[1;33m.\u001b[0m\u001b[0mfilename\u001b[0m\u001b[1;33m)\u001b[0m\u001b[1;33m\u001b[0m\u001b[1;33m\u001b[0m\u001b[0m\n",
      "\u001b[1;31mNameError\u001b[0m: name 'Tk' is not defined"
     ]
    }
   ],
   "source": [
    "root = Tk()\n",
    "root.filename =  filedialog.askopenfilename(initialdir = \"/\",title = \"Select file\",filetypes = ((\"text files\",\"*.csv\"),(\"all files\",\"*.*\")))\n",
    "print (root.filename)\n",
    "\n",
    "readCSV(root.filename)"
   ]
  }
 ],
 "metadata": {
  "kernelspec": {
   "display_name": "Python 3",
   "language": "python",
   "name": "python3"
  },
  "language_info": {
   "codemirror_mode": {
    "name": "ipython",
    "version": 3
   },
   "file_extension": ".py",
   "mimetype": "text/x-python",
   "name": "python",
   "nbconvert_exporter": "python",
   "pygments_lexer": "ipython3",
   "version": "3.7.3"
  }
 },
 "nbformat": 4,
 "nbformat_minor": 2
}
