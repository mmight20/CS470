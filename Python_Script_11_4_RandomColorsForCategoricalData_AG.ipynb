{
 "cells": [
  {
   "cell_type": "code",
   "execution_count": 27,
   "metadata": {},
   "outputs": [],
   "source": [
    "#Packages being downloaded\n",
    "import csv\n",
    "import pandas as pd\n",
    "import re\n",
    "import xml.etree.ElementTree as ET\n",
    "\n",
    "from tkinter import filedialog\n",
    "from tkinter import *"
   ]
  },
  {
   "cell_type": "code",
   "execution_count": 26,
   "metadata": {},
   "outputs": [],
   "source": [
    "#%%python\n",
    "def getFile(sdtFile):\n",
    "    root = Tk()\n",
    "    root.filename =  filedialog.askopenfilename(initialdir = \"/\",title = \"Select file\",filetypes = ((\"text files\",\"*.csv\"),(\"all files\",\"*.*\")))\n",
    "    changePath(root.filename,sdtFile)\n",
    "    root.destroy()\n",
    "    return(root.filename)"
   ]
  },
  {
   "cell_type": "code",
   "execution_count": 25,
   "metadata": {},
   "outputs": [],
   "source": [
    "def changePath(path,sdtFile):\n",
    "    tree = ET.parse(sdtFile)\n",
    "    root = tree.getroot()\n",
    "    \n",
    "    for elem in root.findall('.//Datasources/Datasource/Host'):\n",
    "        elem.text=path\n",
    "    \n",
    "    for elem in root.findall('.//Datasources/Datasource/Name'):\n",
    "        elem.text=path\n",
    "        \n",
    "    tree.write(sdtFile,encoding=\"utf-8\", xml_declaration=True)"
   ]
  },
  {
   "cell_type": "code",
   "execution_count": 24,
   "metadata": {},
   "outputs": [],
   "source": [
    "def readCSV(csvName):\n",
    "    df = pd.read_csv(csvName)\n",
    "    print(\"reading csv done\")\n",
    "    return df"
   ]
  },
  {
   "cell_type": "code",
   "execution_count": 23,
   "metadata": {},
   "outputs": [],
   "source": [
    "def getCat(df,colorName):\n",
    "    x=0\n",
    "    for name in df.columns:\n",
    "        if df.dtypes[x] == 'object':\n",
    "             if len(df[name].astype('category').cat.categories.tolist()) >1 and len(df[name].astype('category').cat.categories.tolist()) <6 and colorName==\"\": \n",
    "                colorName=df.columns[x]\n",
    "        x= x+1\n",
    "    return colorName"
   ]
  },
  {
   "cell_type": "code",
   "execution_count": 22,
   "metadata": {},
   "outputs": [],
   "source": [
    "def getCatCol(df,colorName):\n",
    "    return df[colorName].astype('category').cat.categories.tolist()"
   ]
  },
  {
   "cell_type": "code",
   "execution_count": 21,
   "metadata": {},
   "outputs": [],
   "source": [
    "def typeDefiner(df):\n",
    "    colList = df.columns\n",
    "    colList\n",
    "    x = 0\n",
    "    colNames = []\n",
    "    for name in colList:\n",
    "        if df.dtypes[x] == 'object':# or df.dtypes[x] == 'int64':\n",
    "            pass\n",
    "        else:\n",
    "            colNames.append(colList[x])\n",
    "                \n",
    "        x = x + 1\n",
    "    print(\"objects removed\")\n",
    "    print(colNames)\n",
    "    return colNames"
   ]
  },
  {
   "cell_type": "code",
   "execution_count": 20,
   "metadata": {},
   "outputs": [],
   "source": [
    "def toNumeric(sdtFile):\n",
    "\n",
    "    import xml.etree.ElementTree as ET\n",
    "    #CLEARS COLOR OUT NOW WE CAN INSERT ANYTHING\n",
    "    file = ET.parse(sdtFile)\n",
    "    root = file.getroot()\n",
    "    for elem in root.findall('.//Color/RGB/Function[@type=\"Text Field To Value\"]/KeyValuePairs'):\n",
    "        elem.clear()\n",
    "\n",
    "    for parent in root.findall('.//KeyValuePairs/..'):\n",
    "        for element in parent.findall('KeyValuePairs'):\n",
    "            parent.remove(element)\n",
    "   #Try to write here\n",
    "    for elem in root.findall('.//Color/RGB'):\n",
    "        check_req_elems = elem.find('.//Function[@type=\"Text Field To Value\"]')\n",
    "        check_req_elems.type = \"Linear Interpolation\"\n",
    "        check_req_elems.set(\"type\",\"Linear Interpolation\")\n",
    "        attrib = {'type': 'BoundField'}\n",
    "        minmax = ET.SubElement(check_req_elems, 'MinMax', attrib)\n",
    "        minmax.text= \"\\n\\t\\t\\t\\t\\t\\t\\t\"\n",
    "        min = ET.SubElement(minmax, 'Min')\n",
    "        min.text = '0'\n",
    "        min.tail=\"\\n\\t\\t\\t\\t\\t\\t\"\n",
    "        minmax.tail=\"\\n\\t\\t\\t\\t\\t\"\n",
    "    file.write(sdtFile,encoding=\"utf-8\", xml_declaration=True)\n",
    "    print(\"color fixed\")"
   ]
  },
  {
   "cell_type": "code",
   "execution_count": 40,
   "metadata": {},
   "outputs": [],
   "source": [
    "def XMLParser(colNames, sdtFile,colorName):\n",
    "    print(colNames)\n",
    "\n",
    "    tree = ET.parse(sdtFile)\n",
    "    root = tree.getroot()\n",
    "    count=0;\n",
    "    print(len(colNames))\n",
    "    for elem in root.iter('InputField'):\n",
    "        print(count)\n",
    "        #count+=1;\n",
    "        #check_req_elem = elem.find('.//InputField')\n",
    "        if elem.get('name')!=\"color\":\n",
    "            elem.set('field', colNames[count])\n",
    "            count+=1\n",
    "        else:\n",
    "            elem.set('field', colorName)\n",
    "        \n",
    "    #tree.write('New DAL 900.sdt')\n",
    "    tree.write('emptySDT.sdt')\n",
    "    print(\"XML updated\")"
   ]
  },
  {
   "cell_type": "code",
   "execution_count": 30,
   "metadata": {},
   "outputs": [],
   "source": [
    "def runAll(sdtFile):\n",
    "    colorCol= None\n",
    "    colorName=\"\"\n",
    "    csv = getFile(sdtFile)\n",
    "    df = readCSV(csv)\n",
    "    colorName=getCat(df,colorName)\n",
    "    print(colorName)\n",
    "    colorCol=getCatCol(df,colorName)\n",
    "    colNames = typeDefiner(df)\n",
    "    colNames.append(colorName)\n",
    "    XMLParser(colNames, sdtFile,colorName)\n",
    "    setupColor(colorCol, sdtFile)\n",
    "   # csv = getFile()\n",
    "#readCSV(csv)"
   ]
  },
  {
   "cell_type": "code",
   "execution_count": 42,
   "metadata": {
    "scrolled": true
   },
   "outputs": [
    {
     "name": "stdout",
     "output_type": "stream",
     "text": [
      "reading csv done\n",
      "Gender\n",
      "objects removed\n",
      "['Height', 'Age', 'GPA']\n",
      "['Height', 'Age', 'GPA', 'Gender']\n",
      "4\n",
      "0\n",
      "1\n",
      "2\n",
      "3\n",
      "XML updated\n",
      "23,208,185\n",
      "191,152,10\n",
      "165,239,184\n",
      "50,170,147\n",
      "58,171,173\n"
     ]
    }
   ],
   "source": [
    "#%%python\n",
    "runAll('emptySDT.sdt')"
   ]
  },
  {
   "cell_type": "markdown",
   "metadata": {},
   "source": [
    "# Extra functions"
   ]
  },
  {
   "cell_type": "code",
   "execution_count": 4,
   "metadata": {},
   "outputs": [],
   "source": [
    "def elevationFinder(df):\n",
    "    if df.columns.contains(\"elevation\") or df.columns.contains(\"Elevation\") or df.columns.contains(\"height\"):\n",
    "        longitude = df[\"Longitude\"]\n",
    "    else:\n",
    "        longitude = \"none found\"\n",
    "    return longitude"
   ]
  },
  {
   "cell_type": "code",
   "execution_count": 3,
   "metadata": {},
   "outputs": [],
   "source": [
    "def latFinder2(df):\n",
    "    x = 0\n",
    "    for columns in df.columns:\n",
    "        searchObj = re.match( r'LAT', df.columns[x], re.I)\n",
    "        if searchObj:\n",
    "            #print(\"found it\")\n",
    "            lat = df.columns[x]\n",
    "            return lat\n",
    "        else:\n",
    "            x = x + 1\n",
    "            pass"
   ]
  },
  {
   "cell_type": "code",
   "execution_count": 2,
   "metadata": {},
   "outputs": [],
   "source": [
    "def longFinder2(df):\n",
    "    x = 0\n",
    "    for columns in df.columns:\n",
    "        searchObj = re.match( r'LONG', df.columns[x], re.I)\n",
    "        if searchObj:\n",
    "            #print(\"found it\")\n",
    "            long = df.columns[x]\n",
    "            return long\n",
    "        else:\n",
    "            x = x + 1\n",
    "            pass"
   ]
  },
  {
   "cell_type": "code",
   "execution_count": 38,
   "metadata": {},
   "outputs": [],
   "source": [
    "def setupColor(colorCol,sdtFile):\n",
    "    file = ET.parse(sdtFile)\n",
    "    root = file.getroot()\n",
    "    x=0\n",
    "    if(colorCol==None):#and there are other numeric options\n",
    "        toNumeric(sdtFile)\n",
    "    else:\n",
    "        for elem in root.findall('.//Color/RGB/Function[@type=\"Text Field To Value\"]/KeyValuePairs'):\n",
    "            for element in elem.findall('KeyValuePair/Key'):\n",
    "                element.text=colorCol[x]\n",
    "                x=x+1\n",
    "\n",
    "            if(len(colorCol)>2):\n",
    "                while x<len(colorCol):\n",
    "                    for elem in root.findall('.//Color/RGB/Function[@type=\"Text Field To Value\"]'):\n",
    "                        pairs = elem.find('.//KeyValuePairs')\n",
    "                #fixes spacing so new pair will be at right column/indent area\n",
    "                        for child in pairs.findall('.//KeyValuePair'):\n",
    "                            child.tail=\"\\n\\t\\t\\t\\t\\t\\t\\t\"\n",
    "                        keyVal =ET.SubElement(pairs, 'KeyValuePair')\n",
    "                        keyVal.text=\"\\n\\t\\t\\t\\t\\t\\t\\t\\t\"\n",
    "                        keyVal.tail=\"\\n\\t\\t\\t\\t\\t\\t\"\n",
    "                        keyValP= ET.SubElement(keyVal, 'Key')\n",
    "                        keyValP.text=colorCol[x]\n",
    "                        keyValP.tail=\"\\n\\t\\t\\t\\t\\t\\t\\t\\t\"\n",
    "                        key = ET.SubElement(keyVal, 'Value')\n",
    "                    \n",
    "                        key.tail=\"\\n\\t\\t\\t\\t\\t\\t\\t\"\n",
    "                        x=x+1\n",
    "    \n",
    "    x=0\n",
    "    import random\n",
    "\n",
    "    count=0\n",
    "    colorList=[] \n",
    "    while count<len(colorCol):\n",
    "        randomCol(colorList)\n",
    "        count=count+1\n",
    "\n",
    "\n",
    "    for elem in root.findall('.//Color/RGB/Function[@type=\"Text Field To Value\"]/KeyValuePairs'):\n",
    "            for element in elem.findall('KeyValuePair/Value'):\n",
    "                element.text=colorList[x]\n",
    "                print(colorList[x])\n",
    "                x=x+1\n",
    "                \n",
    "                \n",
    "    file.write('emptySDT1.sdt',encoding=\"utf-8\", xml_declaration=True)\n"
   ]
  },
  {
   "cell_type": "code",
   "execution_count": 14,
   "metadata": {},
   "outputs": [],
   "source": [
    "def randomCol(colorList):\n",
    "    r = random.random()*255\n",
    "    r=int(r)\n",
    "    g = random.random()*255\n",
    "    g=int(g)\n",
    "    b = random.random()*255\n",
    "    b=int(b)\n",
    "    color=str(r)+\",\"+str(g)+\",\"+str(b)\n",
    "    colorList.append(color)"
   ]
  },
  {
   "cell_type": "code",
   "execution_count": 15,
   "metadata": {},
   "outputs": [
    {
     "name": "stdout",
     "output_type": "stream",
     "text": [
      "['12,176,68', '157,173,26', '42,161,173', '205,30,198', '23,132,184', '122,172,228', '180,36,218', '60,238,113', '41,202,157', '217,66,9', '158,207,62', '218,174,156', '58,13,177', '2,27,95', '160,24,177', '65,76,147', '90,188,84', '25,172,47', '88,168,71', '49,49,10', '248,83,110', '252,38,143', '12,177,190', '129,177,78', '245,40,166', '232,152,26', '36,101,4', '23,66,63', '220,199,15', '148,61,113', '228,32,203', '144,152,87', '105,54,20', '211,170,58', '27,220,102', '214,23,154', '151,74,44', '221,154,110', '60,184,1', '198,154,86', '56,11,83', '125,4,86', '238,23,193', '220,134,22', '84,46,171', '186,49,175', '65,100,85', '120,19,254', '164,154,65', '136,130,244', '177,164,181', '230,245,188', '163,143,46', '27,95,41', '229,205,205', '158,34,88', '105,146,189', '41,35,69', '151,1,106', '132,215,160', '53,80,55', '173,225,174', '137,161,231', '125,246,123', '99,20,196', '57,190,90', '0,71,167', '211,122,242', '214,53,107', '11,120,135', '6,132,227', '212,56,24', '135,126,235', '96,129,29', '2,201,15', '42,136,140', '70,20,80', '153,94,62', '199,126,228', '113,193,186', '37,23,67', '223,225,253', '208,169,14', '174,90,89', '65,36,46', '57,202,96', '75,240,187', '128,120,116', '61,24,88', '75,225,70', '234,80,130', '116,252,68', '179,119,52', '41,155,147', '185,215,200', '251,104,225', '105,54,142', '248,92,36', '139,55,94', '54,113,88', '30,188,121']\n"
     ]
    }
   ],
   "source": [
    "def resetToDefault(sdtFile):\n",
    "    file = ET.parse(sdtFile)\n",
    "    root = file.getroot()\n",
    "    \n",
    "    "
   ]
  }
 ],
 "metadata": {
  "kernelspec": {
   "display_name": "Python 3",
   "language": "python",
   "name": "python3"
  },
  "language_info": {
   "codemirror_mode": {
    "name": "ipython",
    "version": 3
   },
   "file_extension": ".py",
   "mimetype": "text/x-python",
   "name": "python",
   "nbconvert_exporter": "python",
   "pygments_lexer": "ipython3",
   "version": "3.7.3"
  }
 },
 "nbformat": 4,
 "nbformat_minor": 2
}
