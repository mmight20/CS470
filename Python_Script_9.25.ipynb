{
 "cells": [
  {
   "cell_type": "code",
   "execution_count": 14,
   "metadata": {},
   "outputs": [],
   "source": [
    "import csv\n",
    "import pandas as pd\n",
    "import re\n",
    "import xml.etree.ElementTree as ET"
   ]
  },
  {
   "cell_type": "code",
   "execution_count": 8,
   "metadata": {},
   "outputs": [],
   "source": [
    "def readCSV(csvName):\n",
    "    with open('Empty CSV.csv') as csvfile:\n",
    "        readCSV = csv.reader(csvfile, delimiter=',')\n",
    "        for row in readCSV:\n",
    "            print(row)\n",
    "            print(row[0])\n",
    "            #print(row[0],row[1], row[2], row[3])"
   ]
  },
  {
   "cell_type": "code",
   "execution_count": 3,
   "metadata": {
    "collapsed": true
   },
   "outputs": [
    {
     "name": "stdout",
     "output_type": "stream",
     "text": [
      "['Alexis', 'Morgan', 'Ashley', 'Amanda']\n",
      "Alexis\n",
      "['3.14159', '3.14159', '3.14159', '3.14159']\n",
      "3.14159\n",
      "['3.14159', '3.14159', '3.14159', '3.14159']\n",
      "3.14159\n",
      "['3.14159', '3.14159', '3.14159', '3.14159']\n",
      "3.14159\n",
      "['3.14159', '3.14159', '3.14159', '3.14159']\n",
      "3.14159\n"
     ]
    }
   ],
   "source": [
    "readCSV('Empty CSV.csv')"
   ]
  },
  {
   "cell_type": "code",
   "execution_count": 15,
   "metadata": {},
   "outputs": [],
   "source": [
    "def readCSV(csvName):\n",
    "    df = pd.read_csv(csvName)\n",
    "    print(df)\n",
    "    return df"
   ]
  },
  {
   "cell_type": "code",
   "execution_count": 16,
   "metadata": {
    "collapsed": true
   },
   "outputs": [
    {
     "name": "stdout",
     "output_type": "stream",
     "text": [
      "     ?Sequence  Latitude  Longitude External Ip  Id Client Idtest Results  \\\n",
      "0            3   33.5618   -84.9653  8.46.76.63         61         24,666   \n",
      "1            2   33.5618   -84.9653  8.46.76.63         61         24,665   \n",
      "2            1   33.5618   -84.9653  8.46.76.63         61         24,664   \n",
      "3            7   33.5280   -85.0238  8.46.76.63         61         24,670   \n",
      "4            6   33.5280   -85.0238  8.46.76.63         61         24,669   \n",
      "5            5   33.5280   -85.0238  8.46.76.63         61         24,668   \n",
      "6            4   33.5280   -85.0238  8.46.76.63         61         24,667   \n",
      "7           11   33.4933   -85.0837  8.46.76.63         61         24,674   \n",
      "8           10   33.4933   -85.0837  8.46.76.63         61         24,673   \n",
      "9            9   33.4933   -85.0837  8.46.76.63         61         24,672   \n",
      "10           8   33.4933   -85.0837  8.46.76.63         61         24,671   \n",
      "11          14   33.4606   -85.1400  8.46.76.63         61         24,677   \n",
      "12          13   33.4606   -85.1400  8.46.76.63         61         24,676   \n",
      "13          12   33.4606   -85.1400  8.46.76.63         61         24,675   \n",
      "14          17   33.4358   -85.1841  8.46.76.63         61         24,680   \n",
      "15          16   33.4358   -85.1841  8.46.76.63         61         24,679   \n",
      "16          15   33.4358   -85.1841  8.46.76.63         61         24,678   \n",
      "17          19   33.4185   -85.2244  8.46.76.63         61         24,682   \n",
      "18          18   33.4185   -85.2244  8.46.76.63         61         24,681   \n",
      "19          23   33.3972   -85.2980  8.46.76.63         61         24,686   \n",
      "20          22   33.3972   -85.2980  8.46.76.63         61         24,685   \n",
      "21          21   33.3972   -85.2980  8.46.76.63         61         24,684   \n",
      "22          20   33.3972   -85.2980  8.46.76.63         61         24,683   \n",
      "23          25   33.3870   -85.3392  8.46.76.63         61         24,688   \n",
      "24          24   33.3870   -85.3392  8.46.76.63         61         24,687   \n",
      "25          31   33.3630   -85.4390  8.46.76.63         61         24,694   \n",
      "26          30   33.3630   -85.4390  8.46.76.63         61         24,693   \n",
      "27          29   33.3630   -85.4390  8.46.76.63         61         24,692   \n",
      "28          28   33.3630   -85.4390  8.46.76.63         61         24,691   \n",
      "29          27   33.3630   -85.4390  8.46.76.63         61         24,690   \n",
      "..         ...       ...        ...         ...        ...            ...   \n",
      "853        852    9.9160   -84.4161  8.46.76.63         61         25,525   \n",
      "854        859    9.9262   -84.3894  8.46.76.63         61         25,532   \n",
      "855        858    9.9262   -84.3894  8.46.76.63         61         25,531   \n",
      "856        857    9.9262   -84.3894  8.46.76.63         61         25,530   \n",
      "857        856    9.9262   -84.3894  8.46.76.63         61         25,529   \n",
      "858        855    9.9262   -84.3894  8.46.76.63         61         25,528   \n",
      "859        861    9.9352   -84.3660  8.46.76.63         61         25,534   \n",
      "860        860    9.9352   -84.3660  8.46.76.63         61         25,533   \n",
      "861        865    9.9437   -84.3432  8.46.76.63         61         25,538   \n",
      "862        864    9.9437   -84.3432  8.46.76.63         61         25,537   \n",
      "863        863    9.9437   -84.3432  8.46.76.63         61         25,536   \n",
      "864        862    9.9437   -84.3432  8.46.76.63         61         25,535   \n",
      "865        868    9.9477   -84.3324  8.46.76.63         61         25,541   \n",
      "866        867    9.9477   -84.3324  8.46.76.63         61         25,540   \n",
      "867        866    9.9477   -84.3324  8.46.76.63         61         25,539   \n",
      "868        871    9.9544   -84.3142  8.46.76.63         61         25,544   \n",
      "869        870    9.9544   -84.3142  8.46.76.63         61         25,543   \n",
      "870        869    9.9544   -84.3142  8.46.76.63         61         25,542   \n",
      "871        874    9.9618   -84.2947  8.46.76.63         61         25,547   \n",
      "872        873    9.9618   -84.2947  8.46.76.63         61         25,546   \n",
      "873        872    9.9618   -84.2947  8.46.76.63         61         25,545   \n",
      "874        877    9.9665   -84.2816  8.46.76.63         61         25,550   \n",
      "875        876    9.9665   -84.2816  8.46.76.63         61         25,549   \n",
      "876        875    9.9665   -84.2816  8.46.76.63         61         25,548   \n",
      "877        880    9.9700   -84.2727  8.46.76.63         61         25,553   \n",
      "878        879    9.9700   -84.2727  8.46.76.63         61         25,552   \n",
      "879        878    9.9700   -84.2727  8.46.76.63         61         25,551   \n",
      "880        881    9.9735   -84.2630  8.46.76.63         61         25,554   \n",
      "881        883    9.9774   -84.2531  8.46.76.63         61         25,556   \n",
      "882        882    9.9774   -84.2531  8.46.76.63         61         25,555   \n",
      "\n",
      "    Location Tag  Mph Network Type            Time  \\\n",
      "0       Delta900  480         WiFi  2/2/2019 15:33   \n",
      "1       Delta900  480         WiFi  2/2/2019 15:33   \n",
      "2       Delta900  480         WiFi  2/2/2019 15:33   \n",
      "3       Delta900  486         WiFi  2/2/2019 15:34   \n",
      "4       Delta900  486         WiFi  2/2/2019 15:34   \n",
      "5       Delta900  486         WiFi  2/2/2019 15:34   \n",
      "6       Delta900  486         WiFi  2/2/2019 15:33   \n",
      "7       Delta900  493         WiFi  2/2/2019 15:34   \n",
      "8       Delta900  493         WiFi  2/2/2019 15:34   \n",
      "9       Delta900  493         WiFi  2/2/2019 15:34   \n",
      "10      Delta900  493         WiFi  2/2/2019 15:34   \n",
      "11      Delta900  502         WiFi  2/2/2019 15:35   \n",
      "12      Delta900  502         WiFi  2/2/2019 15:35   \n",
      "13      Delta900  502         WiFi  2/2/2019 15:34   \n",
      "14      Delta900  505         WiFi  2/2/2019 15:35   \n",
      "15      Delta900  505         WiFi  2/2/2019 15:35   \n",
      "16      Delta900  505         WiFi  2/2/2019 15:35   \n",
      "17      Delta900  509         WiFi  2/2/2019 15:35   \n",
      "18      Delta900  509         WiFi  2/2/2019 15:35   \n",
      "19      Delta900  514         WiFi  2/2/2019 15:36   \n",
      "20      Delta900  514         WiFi  2/2/2019 15:36   \n",
      "21      Delta900  514         WiFi  2/2/2019 15:36   \n",
      "22      Delta900  514         WiFi  2/2/2019 15:36   \n",
      "23      Delta900  518         WiFi  2/2/2019 15:36   \n",
      "24      Delta900  518         WiFi  2/2/2019 15:36   \n",
      "25      Delta900  522         WiFi  2/2/2019 15:37   \n",
      "26      Delta900  522         WiFi  2/2/2019 15:37   \n",
      "27      Delta900  522         WiFi  2/2/2019 15:37   \n",
      "28      Delta900  522         WiFi  2/2/2019 15:37   \n",
      "29      Delta900  522         WiFi  2/2/2019 15:36   \n",
      "..           ...  ...          ...             ...   \n",
      "853     Delta900  220         WiFi  2/2/2019 19:13   \n",
      "854     Delta900  224         WiFi  2/2/2019 19:14   \n",
      "855     Delta900  224         WiFi  2/2/2019 19:14   \n",
      "856     Delta900  224         WiFi  2/2/2019 19:14   \n",
      "857     Delta900  224         WiFi  2/2/2019 19:14   \n",
      "858     Delta900  224         WiFi  2/2/2019 19:14   \n",
      "859     Delta900  200         WiFi  2/2/2019 19:15   \n",
      "860     Delta900  200         WiFi  2/2/2019 19:14   \n",
      "861     Delta900  175         WiFi  2/2/2019 19:15   \n",
      "862     Delta900  175         WiFi  2/2/2019 19:15   \n",
      "863     Delta900  175         WiFi  2/2/2019 19:15   \n",
      "864     Delta900  175         WiFi  2/2/2019 19:15   \n",
      "865     Delta900  170         WiFi  2/2/2019 19:16   \n",
      "866     Delta900  170         WiFi  2/2/2019 19:15   \n",
      "867     Delta900  170         WiFi  2/2/2019 19:15   \n",
      "868     Delta900  163         WiFi  2/2/2019 19:16   \n",
      "869     Delta900  163         WiFi  2/2/2019 19:16   \n",
      "870     Delta900  163         WiFi  2/2/2019 19:16   \n",
      "871     Delta900  162         WiFi  2/2/2019 19:16   \n",
      "872     Delta900  162         WiFi  2/2/2019 19:16   \n",
      "873     Delta900  162         WiFi  2/2/2019 19:16   \n",
      "874     Delta900  154         WiFi  2/2/2019 19:17   \n",
      "875     Delta900  154         WiFi  2/2/2019 19:17   \n",
      "876     Delta900  154         WiFi  2/2/2019 19:17   \n",
      "877     Delta900  146         WiFi  2/2/2019 19:17   \n",
      "878     Delta900  146         WiFi  2/2/2019 19:17   \n",
      "879     Delta900  146         WiFi  2/2/2019 19:17   \n",
      "880     Delta900  148         WiFi  2/2/2019 19:17   \n",
      "881     Delta900  146         WiFi  2/2/2019 19:18   \n",
      "882     Delta900  146         WiFi  2/2/2019 19:18   \n",
      "\n",
      "                     Target Url Test Time Test Type         Time1 Course  \\\n",
      "0                    google.com       818      ping  Sat 10:33:51  ? 235   \n",
      "1      http://www.net4proto.com     1,627      html  Sat 10:33:51  ? 235   \n",
      "2                   18.212.58.6       812      ping  Sat 10:33:51  ? 235   \n",
      "3                 63.243.224.17     1,536      ping  Sat 10:34:21  ? 235   \n",
      "4    https://www.wellsfargo.com     4,814      html  Sat 10:34:21  ? 235   \n",
      "5                    www.aa.com       859      ping  Sat 10:34:21  ? 235   \n",
      "6         http://www.google.com       948      html  Sat 10:34:21  ? 235   \n",
      "7                 69.241.87.182       910      ping  Sat 10:34:51  ? 235   \n",
      "8      http://www.net4proto.com     1,729      html  Sat 10:34:51  ? 235   \n",
      "9                128.177.163.81     1,332      ping  Sat 10:34:51  ? 235   \n",
      "10        http://www.google.com     1,148      html  Sat 10:34:51  ? 235   \n",
      "11   https://www.wellsfargo.com     1,123      html  Sat 10:35:21  ? 235   \n",
      "12                  18.212.58.6       811      ping  Sat 10:35:21  ? 235   \n",
      "13        http://www.google.com       841      html  Sat 10:35:21  ? 235   \n",
      "14                   www.aa.com       818      ping  Sat 10:35:43  ? 239   \n",
      "15        http://www.google.com       843      html  Sat 10:35:43  ? 239   \n",
      "16                   google.com       902      ping  Sat 10:35:43  ? 239   \n",
      "17                63.243.224.17     1,534      ping  Sat 10:36:01  ? 247   \n",
      "18     http://www.net4proto.com     1,919      html  Sat 10:36:01  ? 247   \n",
      "19                69.241.87.182       913      ping  Sat 10:36:33  ? 253   \n",
      "20   https://www.wellsfargo.com     1,331      html  Sat 10:36:33  ? 253   \n",
      "21               128.177.163.81       803      ping  Sat 10:36:33  ? 253   \n",
      "22        http://www.google.com       939      html  Sat 10:36:33  ? 253   \n",
      "23                  18.212.58.6     1,430      ping  Sat 10:36:51  ? 254   \n",
      "24        http://www.google.com       933      html  Sat 10:36:51  ? 254   \n",
      "25                63.243.224.17     1,536      ping  Sat 10:37:32  ? 255   \n",
      "26   https://www.wellsfargo.com     1,330      html  Sat 10:37:32  ? 255   \n",
      "27                   www.aa.com       819      ping  Sat 10:37:32  ? 255   \n",
      "28        http://www.google.com       843      html  Sat 10:37:32  ? 255   \n",
      "29                   google.com       903      ping  Sat 10:37:32  ? 255   \n",
      "..                          ...       ...       ...           ...    ...   \n",
      "853              128.177.163.81       916      ping  Sat 14:14:16   ? 69   \n",
      "854       http://www.google.com     1,047      html  Sat 14:14:47   ? 69   \n",
      "855                  google.com       909      ping  Sat 14:14:47   ? 69   \n",
      "856  https://www.wellsfargo.com     1,845      html  Sat 14:14:47   ? 69   \n",
      "857                 18.212.58.6       813      ping  Sat 14:14:47   ? 69   \n",
      "858       http://www.google.com     1,033      html  Sat 14:14:47   ? 69   \n",
      "859    http://www.net4proto.com     1,218      html  Sat 14:15:17   ? 69   \n",
      "860                  www.aa.com     1,534      ping  Sat 14:15:17   ? 69   \n",
      "861  https://www.wellsfargo.com     1,606      html  Sat 14:15:48   ? 70   \n",
      "862              128.177.163.81     1,110      ping  Sat 14:15:48   ? 70   \n",
      "863       http://www.google.com     1,342      html  Sat 14:15:48   ? 70   \n",
      "864               63.243.224.17     1,601      ping  Sat 14:15:48   ? 70   \n",
      "865                 18.212.58.6     1,052      ping  Sat 14:16:05   ? 70   \n",
      "866       http://www.google.com     1,122      html  Sat 14:16:05   ? 70   \n",
      "867               69.241.87.182       907      ping  Sat 14:16:05   ? 70   \n",
      "868       http://www.google.com     1,032      html  Sat 14:16:35   ? 69   \n",
      "869                  google.com       800      ping  Sat 14:16:35   ? 69   \n",
      "870    http://www.net4proto.com     1,949      html  Sat 14:16:35   ? 69   \n",
      "871               63.243.224.17     1,537      ping  Sat 14:17:05   ? 69   \n",
      "872  https://www.wellsfargo.com     1,020      html  Sat 14:17:05   ? 69   \n",
      "873                  www.aa.com     1,019      ping  Sat 14:17:05   ? 69   \n",
      "874    http://www.net4proto.com     2,310      html  Sat 14:17:27   ? 69   \n",
      "875              128.177.163.81     1,032      ping  Sat 14:17:27   ? 69   \n",
      "876       http://www.google.com     1,034      html  Sat 14:17:27   ? 69   \n",
      "877                 18.212.58.6       912      ping  Sat 14:17:43   ? 69   \n",
      "878       http://www.google.com     1,011      html  Sat 14:17:43   ? 69   \n",
      "879               69.241.87.182     1,010      ping  Sat 14:17:43   ? 69   \n",
      "880  https://www.wellsfargo.com     1,119      html  Sat 14:18:00   ? 69   \n",
      "881       http://www.google.com     1,244      html  Sat 14:18:17   ? 69   \n",
      "882                  google.com       919      ping  Sat 14:18:17   ? 69   \n",
      "\n",
      "     Course_Numeric   Mph1   Feet         Alt Status  \n",
      "0               235  480.0  18850     1,925 Climbing  \n",
      "1               235  480.0  18850     1,925 Climbing  \n",
      "2               235  480.0  18850     1,925 Climbing  \n",
      "3               235  486.0  19825     1,850 Climbing  \n",
      "4               235  486.0  19825     1,850 Climbing  \n",
      "5               235  486.0  19825     1,850 Climbing  \n",
      "6               235  486.0  19825     1,850 Climbing  \n",
      "7               235  493.0  20700     1,625 Climbing  \n",
      "8               235  493.0  20700     1,625 Climbing  \n",
      "9               235  493.0  20700     1,625 Climbing  \n",
      "10              235  493.0  20700     1,625 Climbing  \n",
      "11              235  502.0  21450     1,529 Climbing  \n",
      "12              235  502.0  21450     1,529 Climbing  \n",
      "13              235  502.0  21450     1,529 Climbing  \n",
      "14              239  505.0  22025     1,538 Climbing  \n",
      "15              239  505.0  22025     1,538 Climbing  \n",
      "16              239  505.0  22025     1,538 Climbing  \n",
      "17              247  509.0  22475     1,530 Climbing  \n",
      "18              247  509.0  22475     1,530 Climbing  \n",
      "19              253  514.0  23300     1,500 Climbing  \n",
      "20              253  514.0  23300     1,500 Climbing  \n",
      "21              253  514.0  23300     1,500 Climbing  \n",
      "22              253  514.0  23300     1,500 Climbing  \n",
      "23              254  518.0  23725     1,449 Climbing  \n",
      "24              254  518.0  23725     1,449 Climbing  \n",
      "25              255  522.0  24725     1,403 Climbing  \n",
      "26              255  522.0  24725     1,403 Climbing  \n",
      "27              255  522.0  24725     1,403 Climbing  \n",
      "28              255  522.0  24725     1,403 Climbing  \n",
      "29              255  522.0  24725     1,403 Climbing  \n",
      "..              ...    ...    ...                ...  \n",
      "853              69  220.0   6425  -1,402 Descending  \n",
      "854              69  224.0   5650  -1,107 Descending  \n",
      "855              69  224.0   5650  -1,107 Descending  \n",
      "856              69  224.0   5650  -1,107 Descending  \n",
      "857              69  224.0   5650  -1,107 Descending  \n",
      "858              69  224.0   5650  -1,107 Descending  \n",
      "859              69  200.0   5300    -566 Descending  \n",
      "860              69  200.0   5300    -566 Descending  \n",
      "861              70  175.0   5075    -375 Descending  \n",
      "862              70  175.0   5075    -375 Descending  \n",
      "863              70  175.0   5075    -375 Descending  \n",
      "864              70  175.0   5075    -375 Descending  \n",
      "865              70  170.0   5000    -319 Descending  \n",
      "866              70  170.0   5000    -319 Descending  \n",
      "867              70  170.0   5000    -319 Descending  \n",
      "868              69  163.0   4825    -575 Descending  \n",
      "869              69  163.0   4825    -575 Descending  \n",
      "870              69  163.0   4825    -575 Descending  \n",
      "871              69  162.0   4425    -779 Descending  \n",
      "872              69  162.0   4425    -779 Descending  \n",
      "873              69  162.0   4425    -779 Descending  \n",
      "874              69  154.0   4150    -750 Descending  \n",
      "875              69  154.0   4150    -750 Descending  \n",
      "876              69  154.0   4150    -750 Descending  \n",
      "877              69  146.0   3950    -727 Descending  \n",
      "878              69  146.0   3950    -727 Descending  \n",
      "879              69  146.0   3950    -727 Descending  \n",
      "880              69  148.0   3750    -618 Descending  \n",
      "881              69  146.0   3600    -529 Descending  \n",
      "882              69  146.0   3600    -529 Descending  \n",
      "\n",
      "[883 rows x 19 columns]\n"
     ]
    }
   ],
   "source": [
    "df = readCSV('DAL 900 Data File.csv')"
   ]
  },
  {
   "cell_type": "code",
   "execution_count": 44,
   "metadata": {},
   "outputs": [
    {
     "data": {
      "text/plain": [
       "?Sequence           int64\n",
       "Latitude          float64\n",
       "Longitude         float64\n",
       "External Ip        object\n",
       "Id Client           int64\n",
       "Idtest Results     object\n",
       "Location Tag       object\n",
       "Mph                 int64\n",
       "Network Type       object\n",
       "Time               object\n",
       "Target Url         object\n",
       "Test Time          object\n",
       "Test Type          object\n",
       "Time1              object\n",
       "Course             object\n",
       "Course_Numeric      int64\n",
       "Mph1              float64\n",
       "Feet                int64\n",
       "Alt Status         object\n",
       "dtype: object"
      ]
     },
     "execution_count": 44,
     "metadata": {},
     "output_type": "execute_result"
    }
   ],
   "source": [
    "df.dtypes"
   ]
  },
  {
   "cell_type": "code",
   "execution_count": 54,
   "metadata": {},
   "outputs": [
    {
     "name": "stdout",
     "output_type": "stream",
     "text": [
      "['Latitude', 'Longitude', 'Mph1']\n",
      "Index(['?Sequence', 'Latitude', 'Longitude', 'External Ip', 'Id Client',\n",
      "       'Idtest Results', 'Location Tag', 'Mph', 'Network Type', 'Time',\n",
      "       'Target Url', 'Test Time', 'Test Type', 'Time1', 'Course',\n",
      "       'Course_Numeric', 'Mph1', 'Feet', 'Alt Status'],\n",
      "      dtype='object')\n"
     ]
    }
   ],
   "source": [
    "x = 0\n",
    "colNames = []\n",
    "for name in colList:\n",
    "    if df.dtypes[x] == 'object' or df.dtypes[x] == 'int64':\n",
    "        pass\n",
    "    else:\n",
    "        colNames.append(colList[x])\n",
    "    x = x + 1\n",
    "    \n",
    "print(colNames)\n",
    "\n",
    "colNames = colList\n",
    "\n",
    "print(colList)"
   ]
  },
  {
   "cell_type": "code",
   "execution_count": 24,
   "metadata": {},
   "outputs": [
    {
     "data": {
      "text/plain": [
       "'Latitude'"
      ]
     },
     "execution_count": 24,
     "metadata": {},
     "output_type": "execute_result"
    }
   ],
   "source": [
    "colList[1]"
   ]
  },
  {
   "cell_type": "code",
   "execution_count": 18,
   "metadata": {},
   "outputs": [
    {
     "name": "stdout",
     "output_type": "stream",
     "text": [
      "?Sequence\n",
      "Latitude\n",
      "Longitude\n",
      "External Ip\n",
      "Id Client\n",
      "Idtest Results\n",
      "Location Tag\n",
      "Mph\n",
      "Network Type\n",
      "Time\n",
      "Target Url\n",
      "Test Time\n",
      "Test Type\n",
      "Time1\n",
      "Course\n",
      "Course_Numeric\n",
      "Mph1\n",
      "Feet\n",
      "Alt Status\n"
     ]
    }
   ],
   "source": [
    "colList = df.columns\n",
    "colList\n",
    "\n",
    "for name in colList:\n",
    "    print(name)"
   ]
  },
  {
   "cell_type": "code",
   "execution_count": 7,
   "metadata": {
    "collapsed": true
   },
   "outputs": [
    {
     "data": {
      "text/plain": [
       "0      2/2/2019 15:33\n",
       "1      2/2/2019 15:33\n",
       "2      2/2/2019 15:33\n",
       "3      2/2/2019 15:34\n",
       "4      2/2/2019 15:34\n",
       "5      2/2/2019 15:34\n",
       "6      2/2/2019 15:33\n",
       "7      2/2/2019 15:34\n",
       "8      2/2/2019 15:34\n",
       "9      2/2/2019 15:34\n",
       "10     2/2/2019 15:34\n",
       "11     2/2/2019 15:35\n",
       "12     2/2/2019 15:35\n",
       "13     2/2/2019 15:34\n",
       "14     2/2/2019 15:35\n",
       "15     2/2/2019 15:35\n",
       "16     2/2/2019 15:35\n",
       "17     2/2/2019 15:35\n",
       "18     2/2/2019 15:35\n",
       "19     2/2/2019 15:36\n",
       "20     2/2/2019 15:36\n",
       "21     2/2/2019 15:36\n",
       "22     2/2/2019 15:36\n",
       "23     2/2/2019 15:36\n",
       "24     2/2/2019 15:36\n",
       "25     2/2/2019 15:37\n",
       "26     2/2/2019 15:37\n",
       "27     2/2/2019 15:37\n",
       "28     2/2/2019 15:37\n",
       "29     2/2/2019 15:36\n",
       "            ...      \n",
       "853    2/2/2019 19:13\n",
       "854    2/2/2019 19:14\n",
       "855    2/2/2019 19:14\n",
       "856    2/2/2019 19:14\n",
       "857    2/2/2019 19:14\n",
       "858    2/2/2019 19:14\n",
       "859    2/2/2019 19:15\n",
       "860    2/2/2019 19:14\n",
       "861    2/2/2019 19:15\n",
       "862    2/2/2019 19:15\n",
       "863    2/2/2019 19:15\n",
       "864    2/2/2019 19:15\n",
       "865    2/2/2019 19:16\n",
       "866    2/2/2019 19:15\n",
       "867    2/2/2019 19:15\n",
       "868    2/2/2019 19:16\n",
       "869    2/2/2019 19:16\n",
       "870    2/2/2019 19:16\n",
       "871    2/2/2019 19:16\n",
       "872    2/2/2019 19:16\n",
       "873    2/2/2019 19:16\n",
       "874    2/2/2019 19:17\n",
       "875    2/2/2019 19:17\n",
       "876    2/2/2019 19:17\n",
       "877    2/2/2019 19:17\n",
       "878    2/2/2019 19:17\n",
       "879    2/2/2019 19:17\n",
       "880    2/2/2019 19:17\n",
       "881    2/2/2019 19:18\n",
       "882    2/2/2019 19:18\n",
       "Name: Time, Length: 883, dtype: object"
      ]
     },
     "execution_count": 7,
     "metadata": {},
     "output_type": "execute_result"
    }
   ],
   "source": [
    "df['Time']"
   ]
  },
  {
   "cell_type": "code",
   "execution_count": 14,
   "metadata": {
    "collapsed": true
   },
   "outputs": [
    {
     "data": {
      "text/plain": [
       "0      33.5618\n",
       "1      33.5618\n",
       "2      33.5618\n",
       "3      33.5280\n",
       "4      33.5280\n",
       "5      33.5280\n",
       "6      33.5280\n",
       "7      33.4933\n",
       "8      33.4933\n",
       "9      33.4933\n",
       "10     33.4933\n",
       "11     33.4606\n",
       "12     33.4606\n",
       "13     33.4606\n",
       "14     33.4358\n",
       "15     33.4358\n",
       "16     33.4358\n",
       "17     33.4185\n",
       "18     33.4185\n",
       "19     33.3972\n",
       "20     33.3972\n",
       "21     33.3972\n",
       "22     33.3972\n",
       "23     33.3870\n",
       "24     33.3870\n",
       "25     33.3630\n",
       "26     33.3630\n",
       "27     33.3630\n",
       "28     33.3630\n",
       "29     33.3630\n",
       "        ...   \n",
       "853     9.9160\n",
       "854     9.9262\n",
       "855     9.9262\n",
       "856     9.9262\n",
       "857     9.9262\n",
       "858     9.9262\n",
       "859     9.9352\n",
       "860     9.9352\n",
       "861     9.9437\n",
       "862     9.9437\n",
       "863     9.9437\n",
       "864     9.9437\n",
       "865     9.9477\n",
       "866     9.9477\n",
       "867     9.9477\n",
       "868     9.9544\n",
       "869     9.9544\n",
       "870     9.9544\n",
       "871     9.9618\n",
       "872     9.9618\n",
       "873     9.9618\n",
       "874     9.9665\n",
       "875     9.9665\n",
       "876     9.9665\n",
       "877     9.9700\n",
       "878     9.9700\n",
       "879     9.9700\n",
       "880     9.9735\n",
       "881     9.9774\n",
       "882     9.9774\n",
       "Name: Latitude, Length: 883, dtype: float64"
      ]
     },
     "execution_count": 14,
     "metadata": {},
     "output_type": "execute_result"
    }
   ],
   "source": [
    "df['Latitude']"
   ]
  },
  {
   "cell_type": "code",
   "execution_count": 49,
   "metadata": {},
   "outputs": [],
   "source": [
    "def latFinder(df):\n",
    "    if df.columns.contains(\"Latitude\") or df.columns.contains(\"latitude\"):\n",
    "        latitude = df[\"Latitude\"]\n",
    "    return latitude\n",
    "        "
   ]
  },
  {
   "cell_type": "code",
   "execution_count": 50,
   "metadata": {
    "collapsed": true
   },
   "outputs": [
    {
     "data": {
      "text/plain": [
       "0      33.5618\n",
       "1      33.5618\n",
       "2      33.5618\n",
       "3      33.5280\n",
       "4      33.5280\n",
       "5      33.5280\n",
       "6      33.5280\n",
       "7      33.4933\n",
       "8      33.4933\n",
       "9      33.4933\n",
       "10     33.4933\n",
       "11     33.4606\n",
       "12     33.4606\n",
       "13     33.4606\n",
       "14     33.4358\n",
       "15     33.4358\n",
       "16     33.4358\n",
       "17     33.4185\n",
       "18     33.4185\n",
       "19     33.3972\n",
       "20     33.3972\n",
       "21     33.3972\n",
       "22     33.3972\n",
       "23     33.3870\n",
       "24     33.3870\n",
       "25     33.3630\n",
       "26     33.3630\n",
       "27     33.3630\n",
       "28     33.3630\n",
       "29     33.3630\n",
       "        ...   \n",
       "853     9.9160\n",
       "854     9.9262\n",
       "855     9.9262\n",
       "856     9.9262\n",
       "857     9.9262\n",
       "858     9.9262\n",
       "859     9.9352\n",
       "860     9.9352\n",
       "861     9.9437\n",
       "862     9.9437\n",
       "863     9.9437\n",
       "864     9.9437\n",
       "865     9.9477\n",
       "866     9.9477\n",
       "867     9.9477\n",
       "868     9.9544\n",
       "869     9.9544\n",
       "870     9.9544\n",
       "871     9.9618\n",
       "872     9.9618\n",
       "873     9.9618\n",
       "874     9.9665\n",
       "875     9.9665\n",
       "876     9.9665\n",
       "877     9.9700\n",
       "878     9.9700\n",
       "879     9.9700\n",
       "880     9.9735\n",
       "881     9.9774\n",
       "882     9.9774\n",
       "Name: Latitude, Length: 883, dtype: float64"
      ]
     },
     "execution_count": 50,
     "metadata": {},
     "output_type": "execute_result"
    }
   ],
   "source": [
    "latFinder(df)"
   ]
  },
  {
   "cell_type": "code",
   "execution_count": 51,
   "metadata": {},
   "outputs": [],
   "source": [
    "def longFinder(df):\n",
    "    if df.columns.contains(\"longitude\") or df.columns.contains(\"long\"):\n",
    "        longitude = df[\"Longitude\"]\n",
    "    else:\n",
    "        longitude = \"none found\"\n",
    "    return longitude"
   ]
  },
  {
   "cell_type": "code",
   "execution_count": 52,
   "metadata": {},
   "outputs": [
    {
     "data": {
      "text/plain": [
       "'none found'"
      ]
     },
     "execution_count": 52,
     "metadata": {},
     "output_type": "execute_result"
    }
   ],
   "source": [
    "longFinder(df)"
   ]
  },
  {
   "cell_type": "code",
   "execution_count": 34,
   "metadata": {},
   "outputs": [
    {
     "name": "stdout",
     "output_type": "stream",
     "text": [
      "found it\n"
     ]
    }
   ],
   "source": [
    "line = \"latitude\"\n",
    "\n",
    "searchObj = re.match( r'LAT', line, re.I)\n",
    "if searchObj:\n",
    "   print(\"found it\")\n",
    "else:\n",
    "   print(\"nada\")"
   ]
  },
  {
   "cell_type": "code",
   "execution_count": 37,
   "metadata": {},
   "outputs": [],
   "source": [
    "\n",
    "def latFinder(df):\n",
    "    searchObj = re.match( r'LAT', df.columns, re.I)\n",
    "    if searchObj:\n",
    "        print(\"found it\")\n",
    "    else:\n",
    "        print(\"nada\")"
   ]
  },
  {
   "cell_type": "code",
   "execution_count": 19,
   "metadata": {},
   "outputs": [
    {
     "data": {
      "text/plain": [
       "'?Sequence'"
      ]
     },
     "execution_count": 19,
     "metadata": {},
     "output_type": "execute_result"
    }
   ],
   "source": [
    "colList[0]"
   ]
  },
  {
   "cell_type": "code",
   "execution_count": 57,
   "metadata": {},
   "outputs": [],
   "source": [
    "tree = ET.parse('DAL 900.sdt')\n",
    "root = tree.getroot()\n",
    "count=0;\n",
    "\n",
    "# modifying an attribute\n",
    "\n",
    "for elem in root.iter('InputField'):\n",
    "    count+=1;\n",
    "    elem.set('field', str(colNames[count]))\n",
    "    #for name in colList:\n",
    "        \n",
    "\n",
    "        #changes the names of the inputs but need to work on finding binding fields within the file\n",
    "tree.write('New DAL 900.sdt')"
   ]
  },
  {
   "cell_type": "code",
   "execution_count": 65,
   "metadata": {},
   "outputs": [
    {
     "ename": "NameError",
     "evalue": "name 'getwd' is not defined",
     "output_type": "error",
     "traceback": [
      "\u001b[1;31m---------------------------------------------------------------------------\u001b[0m",
      "\u001b[1;31mNameError\u001b[0m                                 Traceback (most recent call last)",
      "\u001b[1;32m<ipython-input-65-14c78a673413>\u001b[0m in \u001b[0;36m<module>\u001b[1;34m\u001b[0m\n\u001b[1;32m----> 1\u001b[1;33m \u001b[0mgetwd\u001b[0m\u001b[1;33m(\u001b[0m\u001b[1;33m)\u001b[0m\u001b[1;33m\u001b[0m\u001b[1;33m\u001b[0m\u001b[0m\n\u001b[0m",
      "\u001b[1;31mNameError\u001b[0m: name 'getwd' is not defined"
     ]
    }
   ],
   "source": []
  },
  {
   "cell_type": "code",
   "execution_count": null,
   "metadata": {},
   "outputs": [],
   "source": []
  }
 ],
 "metadata": {
  "kernelspec": {
   "display_name": "Python 3",
   "language": "python",
   "name": "python3"
  },
  "language_info": {
   "codemirror_mode": {
    "name": "ipython",
    "version": 3
   },
   "file_extension": ".py",
   "mimetype": "text/x-python",
   "name": "python",
   "nbconvert_exporter": "python",
   "pygments_lexer": "ipython3",
   "version": "3.7.3"
  }
 },
 "nbformat": 4,
 "nbformat_minor": 2
}
