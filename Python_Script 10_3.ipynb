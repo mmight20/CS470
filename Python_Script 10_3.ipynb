{
 "cells": [
  {
   "cell_type": "code",
   "execution_count": 59,
   "metadata": {},
   "outputs": [],
   "source": [
    "import csv\n",
    "import pandas as pd\n",
    "import re\n",
    "import xml.etree.ElementTree as ET"
   ]
  },
  {
   "cell_type": "code",
   "execution_count": 60,
   "metadata": {},
   "outputs": [],
   "source": [
    "def readCSV(csvName):\n",
    "    df = pd.read_csv(csvName)\n",
    "    print(\"reading csv done\")\n",
    "    return df"
   ]
  },
  {
   "cell_type": "code",
   "execution_count": 61,
   "metadata": {},
   "outputs": [],
   "source": [
    "def typeDefiner(df):\n",
    "    colList = df.columns\n",
    "    colList\n",
    "    x = 0\n",
    "    colNames = []\n",
    "    for name in colList:\n",
    "        if df.dtypes[x] == 'object':# or df.dtypes[x] == 'int64':\n",
    "            pass\n",
    "        else:\n",
    "            colNames.append(colList[x])\n",
    "        x = x + 1\n",
    "    print(\"objects removed\")\n",
    "    print(colNames)\n",
    "    return colNames"
   ]
  },
  {
   "cell_type": "code",
   "execution_count": 62,
   "metadata": {},
   "outputs": [],
   "source": [
    "def XMLParser(colNames, sdtFile):\n",
    "    print(colNames)\n",
    "    tree = ET.parse(sdtFile)\n",
    "    #print(sdtFile)\n",
    "    root = tree.getroot()\n",
    "    count=0;\n",
    "# modifying an attribute\n",
    "    for elem in root.iter('InputField'):\n",
    "        count+=1;\n",
    "        elem.set('field', str(colNames[count]))\n",
    "        #print(count)\n",
    "        #for name in colList:\n",
    "        #changes the names of the inputs but need to work on finding binding fields within the file\n",
    "    tree.write('New DAL 900.sdt')\n",
    "    print(\"XML updated\")"
   ]
  },
  {
   "cell_type": "code",
   "execution_count": 64,
   "metadata": {},
   "outputs": [],
   "source": [
    "def runAll(csvName, sdtFile):\n",
    "    df = readCSV(csvName)\n",
    "    colNames = typeDefiner(df)\n",
    "    XMLParser(colNames, sdtFile)"
   ]
  },
  {
   "cell_type": "code",
   "execution_count": 65,
   "metadata": {},
   "outputs": [
    {
     "name": "stdout",
     "output_type": "stream",
     "text": [
      "reading csv done\n",
      "objects removed\n",
      "['?Sequence', 'Latitude', 'Longitude', 'Id Client', 'Mph', 'Course_Numeric', 'Mph1', 'Feet']\n",
      "['?Sequence', 'Latitude', 'Longitude', 'Id Client', 'Mph', 'Course_Numeric', 'Mph1', 'Feet']\n",
      "XML updated\n"
     ]
    }
   ],
   "source": [
    "runAll('DAL 900 Data File.csv', 'DAL 900.sdt')"
   ]
  },
  {
   "cell_type": "code",
   "execution_count": null,
   "metadata": {},
   "outputs": [],
   "source": []
  }
 ],
 "metadata": {
  "kernelspec": {
   "display_name": "Python 3",
   "language": "python",
   "name": "python3"
  },
  "language_info": {
   "codemirror_mode": {
    "name": "ipython",
    "version": 3
   },
   "file_extension": ".py",
   "mimetype": "text/x-python",
   "name": "python",
   "nbconvert_exporter": "python",
   "pygments_lexer": "ipython3",
   "version": "3.7.3"
  }
 },
 "nbformat": 4,
 "nbformat_minor": 2
}
